{
 "cells": [
  {
   "cell_type": "markdown",
   "id": "c41026b1-23f1-4547-b071-567f62c47bba",
   "metadata": {},
   "source": [
    "# Step 1: Setting Up the Python Application"
   ]
  },
  {
   "cell_type": "code",
   "execution_count": 12,
   "id": "e4a9a3ac-4f24-4c1d-ab36-4ed754242449",
   "metadata": {},
   "outputs": [],
   "source": [
    "from langchain.embeddings.openai import OpenAIEmbeddings\n",
    "from langchain.llms import OpenAI\n",
    "from langchain.vectorstores import Chroma\n",
    "from langchain.chains import RetrievalQA\n",
    "from langchain.prompts import PromptTemplate\n",
    "from langchain.output_parsers import PydanticOutputParser\n",
    "from pydantic import BaseModel, Field, NonNegativeInt\n",
    "from langchain.document_loaders.csv_loader import CSVLoader\n",
    "from langchain.chains.question_answering import load_qa_chain"
   ]
  },
  {
   "cell_type": "code",
   "execution_count": 21,
   "id": "8aa8e9c2-61c8-4257-9e1e-81d862338149",
   "metadata": {},
   "outputs": [],
   "source": [
    "import os\n",
    "\n",
    "os.environ[\"OPENAI_API_KEY\"] = \"API_KEY_HERE\"\n",
    "os.environ[\"OPENAI_API_BASE\"] = \"https://openai.vocareum.com/v1\""
   ]
  },
  {
   "cell_type": "code",
   "execution_count": 26,
   "id": "73910439-900e-4a78-bbd4-121615dd39dc",
   "metadata": {},
   "outputs": [
    {
     "data": {
      "text/plain": [
       "OpenAI(client=<class 'openai.api_resources.completion.Completion'>, model_name='gpt-3.5-turbo-instruct', temperature=0.0, max_tokens=2000, openai_api_key='voc-589459551126677348884666dc80e0ebfee7.97941068', openai_api_base='https://openai.vocareum.com/v1', openai_organization='', openai_proxy='')"
      ]
     },
     "execution_count": 26,
     "metadata": {},
     "output_type": "execute_result"
    }
   ],
   "source": [
    "# Initialise LLM\n",
    "\n",
    "llm = OpenAI(\n",
    "    model=\"gpt-3.5-turbo-instruct\",\n",
    "    temperature=0,\n",
    "    max_tokens=2000\n",
    "    # api_key=\"...\",\n",
    "    # base_url=\"...\",\n",
    "    # organization=\"...\",\n",
    "    # other params...\n",
    ")\n",
    "llm"
   ]
  },
  {
   "cell_type": "markdown",
   "id": "e06f5c9f-3d95-4c8d-8e47-52316e1b466a",
   "metadata": {
    "jp-MarkdownHeadingCollapsed": true
   },
   "source": [
    "# Step 2: Generating Real Estate Listings\n",
    "\n",
    "#### Note: This prompt is mentioned for information on how I generated it using ChatGPT app. From there, the listings were saved in a csv file and used ahead in the project work."
   ]
  },
  {
   "cell_type": "code",
   "execution_count": null,
   "id": "17c60e6f-fd2b-4adb-bead-9715c3c6d49e",
   "metadata": {},
   "outputs": [],
   "source": [
    "listing_prompt = \"\"\"\n",
    "Generate 12-15 real estate listings for home, which can help a home buyer to understand various parameters, home description,  locality description, etc..  Listing should be diverse and have diverse descriptions and neighborhoods. \n",
    "Make the descriptions in listings long and more descriptive as provided in the sample listing. Ensure that they remain diverse.\n",
    "\n",
    "A sample listing is given below:\n",
    "\n",
    "Neighborhood: Green Oaks\n",
    "Price: $800,000\n",
    "Bedrooms: 3\n",
    "Bathrooms: 2\n",
    "House Size: 2,000 sqft\n",
    "\n",
    "Description: Welcome to this eco-friendly oasis nestled in the heart of Green Oaks. This charming 3-bedroom, 2-bathroom home boasts energy-efficient features such as solar panels and a well-insulated structure. Natural light floods the living spaces, highlighting the beautiful hardwood floors and eco-conscious finishes. The open-concept kitchen and dining area lead to a spacious backyard with a vegetable garden, perfect for the eco-conscious family. Embrace sustainable living without compromising on style in this Green Oaks gem.\n",
    "\n",
    "Neighborhood Description: Green Oaks is a close-knit, environmentally-conscious community with access to organic grocery stores, community gardens, and bike paths. Take a stroll through the nearby Green Oaks Park or grab a cup of coffee at the cozy Green Bean Cafe. With easy access to public transportation and bike lanes, commuting is a breeze.\n",
    "\"\"\"\n",
    "\n",
    "out_listings = llm.invoke(listing_prompt)\n",
    "print(out_listings)"
   ]
  },
  {
   "cell_type": "markdown",
   "id": "3ad58d72-f655-43fc-9a2f-d2ddb939b246",
   "metadata": {},
   "source": [
    "# Step 3: Storing Listings in a Vector Database\n",
    "\n",
    "## Vector Database Setup: \n",
    "Initialize and configure ChromaDB or a similar vector database to store real estate listings.\n",
    "Generating and Storing Embeddings: Convert the LLM-generated listings into suitable embeddings that capture the semantic content of each listing, and store these embeddings in the vector database."
   ]
  },
  {
   "cell_type": "markdown",
   "id": "4cd028ff-733c-4a58-80ac-90bb0049a815",
   "metadata": {},
   "source": [
    "### Load data"
   ]
  },
  {
   "cell_type": "code",
   "execution_count": null,
   "id": "d7a2c221-6b5f-4d5c-b6e2-a87e753e373f",
   "metadata": {},
   "outputs": [],
   "source": [
    "\n",
    "\n",
    "csvLoader = CSVLoader(file_path=\"./final_real_estate_listing.csv\"\n",
    "                     )\n",
    "listings = csvLoader.load()\n",
    "listings\n",
    "\n",
    "# Scope of improvements:\n",
    "# 1. Create list of documents with custom metadata colums, like price, bedrooms, etc. can go in there. \n",
    "# 2. OR Use latest version for putting numeric columns in metadata_columns\n",
    "# 3. Can use a LLM to summarise a row in more verbose description matching a human description of the house and use that as page_content for Document"
   ]
  },
  {
   "cell_type": "markdown",
   "id": "5c9c6ea8-4109-4547-9e82-0870e5ff2335",
   "metadata": {},
   "source": [
    "### Initialise embeddings"
   ]
  },
  {
   "cell_type": "code",
   "execution_count": 22,
   "id": "dca1179a-0b8f-45a5-8d56-59debecef5fe",
   "metadata": {},
   "outputs": [
    {
     "data": {
      "text/plain": [
       "OpenAIEmbeddings(client=<class 'openai.api_resources.embedding.Embedding'>, model='text-embedding-ada-002', deployment='text-embedding-ada-002', openai_api_version='', openai_api_base='https://openai.vocareum.com/v1', openai_api_type='', openai_proxy='', embedding_ctx_length=8191, openai_api_key='voc-589459551126677348884666dc80e0ebfee7.97941068', openai_organization='', allowed_special=set(), disallowed_special='all', chunk_size=1000, max_retries=6, request_timeout=None, headers=None, tiktoken_model_name=None, show_progress_bar=False, model_kwargs={}, skip_empty=False)"
      ]
     },
     "execution_count": 22,
     "metadata": {},
     "output_type": "execute_result"
    }
   ],
   "source": [
    "embed = OpenAIEmbeddings()\n",
    "embed"
   ]
  },
  {
   "cell_type": "markdown",
   "id": "de9387ad-b4b0-4815-9d84-d5c324f2032e",
   "metadata": {},
   "source": [
    "### Create Vector store from the data"
   ]
  },
  {
   "cell_type": "code",
   "execution_count": 6,
   "id": "5624d8e4-6fa0-4ba9-a824-04652c3d8b9c",
   "metadata": {},
   "outputs": [
    {
     "data": {
      "text/plain": [
       "<langchain.vectorstores.chroma.Chroma at 0x1182df610>"
      ]
     },
     "execution_count": 6,
     "metadata": {},
     "output_type": "execute_result"
    }
   ],
   "source": [
    "vectorStore = Chroma.from_documents(listings, embed)\n",
    "vectorStore"
   ]
  },
  {
   "cell_type": "code",
   "execution_count": 8,
   "id": "e047cece-a1f7-441b-b93a-48b52e99551e",
   "metadata": {},
   "outputs": [
    {
     "data": {
      "text/plain": [
       "[Document(page_content=\"Neighborhood: Cedar Grove\\nPrice: $720,000\\nBedrooms: 3\\nBathrooms: 2\\nHouse Size: 2,100 sqft\\nDescription: This beautifully updated single-story home in Cedar Grove blends modern comfort with natural serenity. Boasting 3 bedrooms and 2 full bathrooms, the home welcomes you with its airy open layout, vaulted ceilings, and large windows that frame picturesque views of the surrounding trees. The kitchen is designed for culinary enthusiasts, featuring quartz countertops, a walk-in pantry, and a large island. The master suite offers private backyard access and an ensuite bathroom with a soaking tub, dual vanities, and a walk-in shower.\\nNeighborhood Description: Cedar Grove is known for its lush greenbelts, quiet walking trails, and friendly community events. It's an ideal location for families and retirees alike, with local parks, dog trails, and charming coffee shops that promote a laid-back lifestyle.\", metadata={'row': 3, 'source': './final_real_estate_listing.csv'}),\n",
       " Document(page_content='Neighborhood: Seaside Cove\\nPrice: $1,200,000\\nBedrooms: 4\\nBathrooms: 3\\nHouse Size: 2,800 sqft\\nDescription: Step into coastal luxury with this magnificent 4-bedroom, 3-bathroom home located just steps from the shore in Seaside Cove. This residence features a wide open floor plan with panoramic ocean views, high vaulted ceilings, and a chef-inspired kitchen with granite countertops and state-of-the-art appliances. The master suite includes a private balcony overlooking the beach and a spa-like bathroom with a soaking tub and walk-in shower. An expansive outdoor deck is perfect for entertaining guests as the sun sets over the water.\\nNeighborhood Description: Seaside Cove is a charming coastal town beloved for its relaxed ambiance, vibrant boardwalk, and stunning beaches. Residents enjoy local seafood restaurants, beach yoga classes, and weekend surf competitions. With walkable amenities and a warm community spirit, Seaside Cove is coastal living at its finest.', metadata={'row': 1, 'source': './final_real_estate_listing.csv'}),\n",
       " Document(page_content='Neighborhood: Palo Alto\\nPrice: $2,350,000\\nBedrooms: 4\\nBathrooms: 3\\nHouse Size: 2,800 sqft\\nDescription: This stunning 4-bedroom, 3-bathroom contemporary home in Palo Alto offers an exceptional blend of elegance and function. The home features a bright and airy interior with skylights, hardwood flooring, and a chef’s kitchen with a large island and premium appliances. The master suite includes a spa-style bath and a private deck overlooking a landscaped backyard. Perfect for indoor-outdoor living, this home also includes a patio, firepit, and built-in grill for entertaining.\\nNeighborhood Description: Located in the heart of Silicon Valley, Palo Alto is known for its excellent schools, tech innovation, and vibrant downtown scene. Residents enjoy world-class dining, boutique shopping, and access to parks and hiking trails, all within a highly walkable and bike-friendly city.', metadata={'row': 6, 'source': './final_real_estate_listing.csv'})]"
      ]
     },
     "execution_count": 8,
     "metadata": {},
     "output_type": "execute_result"
    }
   ],
   "source": [
    "# Sample query semantic similarity search\n",
    "\n",
    "sample_query = \"\"\"\n",
    "Houses which are 3 bedrooms, 2 baths and are in the neighbourhood with lots of trees and away from the ocean. \n",
    "\"\"\"\n",
    "\n",
    "# find top 3 semantically similar documents to the query\n",
    "result = vectorStore.similarity_search(query=sample_query, k=3)\n",
    "result"
   ]
  },
  {
   "cell_type": "markdown",
   "id": "d89d9b5f-82dd-4044-a8db-51821c1a40b1",
   "metadata": {
    "jp-MarkdownHeadingCollapsed": true
   },
   "source": [
    "# Test: Use a basic query and RAG approach to get LLM output for user query. "
   ]
  },
  {
   "cell_type": "code",
   "execution_count": 20,
   "id": "65f4b880-18b4-4066-ad15-aa51a2cda8ae",
   "metadata": {},
   "outputs": [
    {
     "name": "stdout",
     "output_type": "stream",
     "text": [
      "\n",
      "Neighborhood: Cedar Grove\n",
      "Price: $720,000\n",
      "Bedrooms: 3\n",
      "Bathrooms: 2\n",
      "House Size: 2,100 sqft\n",
      "Description: This beautifully updated single-story home in Cedar Grove blends modern comfort with natural serenity. Boasting 3 bedrooms and 2 full bathrooms, the home welcomes you with its airy open layout, vaulted ceilings, and large windows that frame picturesque views of the surrounding trees. The kitchen is designed for culinary enthusiasts, featuring quartz countertops, a walk-in pantry, and a large island. The master suite offers private backyard access and an ensuite bathroom with a soaking tub, dual vanities, and a walk-in shower.\n",
      "Neighborhood Description: Cedar Grove is known for its lush greenbelts, quiet walking trails, and friendly community events. It's an ideal location for families and retirees alike, with local parks, dog trails, and charming coffee shops that promote a laid-back lifestyle.\n"
     ]
    }
   ],
   "source": [
    "\n",
    "query = \"\"\"\n",
    "Based on the houses listing in the context, suggest houses which are at least 3 bedrooms and 2 baths and are in the neighbourhood with lots of trees. \n",
    "A balance between suburban tranquility and access to urban amenities like restaurants and theaters. \n",
    "Try to provide the description as close to the context and in similar format. If no such listing of house is found, say nothing matching found.\n",
    "\"\"\"\n",
    "\n",
    "# No result test case\n",
    "'''\n",
    "query = \"\"\"\n",
    "Based on the houses listing in the context, suggest houses which are at least 6 bedrooms and 4 baths and are in the neighbourhood with lots of trees. \n",
    "A balance between suburban tranquility and access to urban amenities like restaurants and theaters. \n",
    "Try to provide the description as close to the context and in similar format. If no such listing of house is found, say nothing matching found.\n",
    "\"\"\"\n",
    "'''\n",
    "\n",
    "use_chain_helper = True\n",
    "if use_chain_helper:\n",
    "    rag = RetrievalQA.from_chain_type(llm=llm, chain_type=\"stuff\", retriever=vectorStore.as_retriever())\n",
    "    print(rag.run(query))\n",
    "else:\n",
    "    similar_docs = vectorStore.similarity_search(query=query, k=5)\n",
    "    print(similar_docs[0])\n",
    "    prompt = PromptTemplate(\n",
    "        template=\"{query}\\nContext: {context}\",\n",
    "        input_variables=[\"query\", \"context\"],\n",
    "    )\n",
    "    chain = load_qa_chain(llm, prompt = prompt, chain_type=\"stuff\")\n",
    "    print(chain.run(input_documents=similar_docs, query = query))"
   ]
  },
  {
   "cell_type": "markdown",
   "id": "5cd980bd-2357-42b0-b2e3-c2b59996c26c",
   "metadata": {},
   "source": [
    "# Step 4: Building the User Preference Interface"
   ]
  },
  {
   "cell_type": "markdown",
   "id": "2663189d-ecfd-42c7-b20c-9105e8a32152",
   "metadata": {},
   "source": [
    "### Collect buyer preferences, such as the number of bedrooms, bathrooms, location, and other specific requirements from a set of questions or telling the buyer to enter their preferences in natural language."
   ]
  },
  {
   "cell_type": "code",
   "execution_count": 9,
   "id": "a5bb47fc-cbd5-42eb-9b52-20835ee831af",
   "metadata": {},
   "outputs": [],
   "source": [
    "# Sample question answer hardcoded\n",
    "\n",
    "questions = [\n",
    "    \"How big do you want your house to be?\", \n",
    "    \"What are 3 most important things for you in choosing this property?\", \n",
    "    \"Which amenities would you like?\", \n",
    "    \"Which transportation options are important to you?\", \n",
    "    \"How urban do you want your neighborhood to be?\"\n",
    "]\n",
    "\n",
    "answers = [ \n",
    "    \"A comfortable three-bedroom house with a spacious kitchen and a cozy living room.\",\n",
    "    \"A quiet neighborhood, good local schools, and convenient shopping options.\",\n",
    "    \"A backyard for gardening, a two-car garage, and a modern, energy-efficient heating system.\",\n",
    "    \"Easy access to a reliable bus line, proximity to a major highway, and bike-friendly roads.\",\n",
    "    \"A balance between suburban tranquility and access to urban amenities like restaurants and theaters.\"\n",
    "]"
   ]
  },
  {
   "cell_type": "markdown",
   "id": "fdeac53f-edaf-4bba-b552-50eb8400adc6",
   "metadata": {},
   "source": [
    "### Buyer Preference Parsing: Implement logic to interpret and structure these preferences for querying the vector database."
   ]
  },
  {
   "cell_type": "code",
   "execution_count": 63,
   "id": "b9ea19b2-dd19-4628-aec4-d9c8eb0cd5a9",
   "metadata": {},
   "outputs": [
    {
     "name": "stdout",
     "output_type": "stream",
     "text": [
      "Looking for a house as descirbed here.  A comfortable three-bedroom house with a spacious kitchen and a cozy living room.  A quiet neighborhood, good local schools, and convenient shopping options.  A backyard for gardening, a two-car garage, and a modern, energy-efficient heating system.  Easy access to a reliable bus line, proximity to a major highway, and bike-friendly roads.  A balance between suburban tranquility and access to urban amenities like restaurants and theaters. \n"
     ]
    }
   ],
   "source": [
    "house_plain_query = \"Looking for a house as descirbed here. \"\n",
    "for i in range(len(answers)):\n",
    "    house_plain_query += f\" {answers[i]} \"\n",
    "\n",
    "print(house_plain_query)"
   ]
  },
  {
   "cell_type": "code",
   "execution_count": 70,
   "id": "3d7bb037-903b-4547-bb8e-de2e29e9e7cd",
   "metadata": {},
   "outputs": [
    {
     "name": "stdout",
     "output_type": "stream",
     "text": [
      "\n",
      "Question: How big do you want your house to be?\n",
      "Answer: A comfortable three-bedroom house with a spacious kitchen and a cozy living room.\n",
      "Question: What are 3 most important things for you in choosing this property?\n",
      "Answer: A quiet neighborhood, good local schools, and convenient shopping options.\n",
      "Question: Which amenities would you like?\n",
      "Answer: A backyard for gardening, a two-car garage, and a modern, energy-efficient heating system.\n",
      "Question: Which transportation options are important to you?\n",
      "Answer: Easy access to a reliable bus line, proximity to a major highway, and bike-friendly roads.\n",
      "Question: How urban do you want your neighborhood to be?\n",
      "Answer: A balance between suburban tranquility and access to urban amenities like restaurants and theaters.\n"
     ]
    }
   ],
   "source": [
    "question_and_answer = \"\"\n",
    "for i in range(len(questions)):\n",
    "    question_and_answer += f\"\\nQuestion: {questions[i]}\"\n",
    "    question_and_answer += f\"\\nAnswer: {answers[i]}\"\n",
    "\n",
    "print(question_and_answer)"
   ]
  },
  {
   "cell_type": "markdown",
   "id": "e17f7d09-2257-4063-ada0-ec0691392beb",
   "metadata": {
    "jp-MarkdownHeadingCollapsed": true
   },
   "source": [
    "# Step 5: Searching Based on Preferences"
   ]
  },
  {
   "cell_type": "markdown",
   "id": "de0a8c04-95f1-41fc-925d-629cec5ff990",
   "metadata": {},
   "source": [
    "### Semantic Search Implementation: Use the structured buyer preferences to perform a semantic search on the vector database, retrieving listings that most closely match the user's requirements."
   ]
  },
  {
   "cell_type": "code",
   "execution_count": 60,
   "id": "fba1e310-975b-4cfa-8b4c-807232db6c13",
   "metadata": {},
   "outputs": [],
   "source": [
    "def get_matching_listings(query) :\n",
    "\n",
    "    # find top 3 semantically similar documents to the query\n",
    "    result = vectorStore.similarity_search(query=buyer_llm_query, k=3)\n",
    "    return result"
   ]
  },
  {
   "cell_type": "code",
   "execution_count": 64,
   "id": "9b5084d8-15ad-422c-9d6c-c33aeb42e2c9",
   "metadata": {},
   "outputs": [
    {
     "name": "stdout",
     "output_type": "stream",
     "text": [
      "[Document(page_content='Neighborhood: Brookline\\nPrice: $1,775,000\\nBedrooms: 4\\nBathrooms: 3\\nHouse Size: 2,900 sqft\\nDescription: This elegant 4-bedroom, 3-bathroom colonial in Brookline combines historical details with modern luxury. Step through the grand foyer into spacious living and dining rooms, adorned with crown molding and large bay windows. The chef’s kitchen opens up to a sunny breakfast nook and family room. Upstairs, the primary suite features a walk-in closet and spa bath. A fenced-in backyard and two-car garage round out this ideal suburban retreat.\\nNeighborhood Description: Brookline offers a suburban feel with urban conveniences. Known for its excellent schools, leafy streets, and community-focused atmosphere, Brookline has easy access to downtown Boston via the Green Line, making it popular with families and professionals alike.', metadata={'row': 10, 'source': './final_real_estate_listing.csv'}), Document(page_content='Neighborhood: Green Oaks\\nPrice: $800,000\\nBedrooms: 3\\nBathrooms: 2\\nHouse Size: 2,000 sqft\\nDescription: Welcome to this eco-friendly oasis nestled in the heart of Green Oaks. This charming 3-bedroom, 2-bathroom home boasts energy-efficient features such as solar panels and a well-insulated structure. Natural light floods the living spaces, highlighting the beautiful hardwood floors and eco-conscious finishes. The open-concept kitchen and dining area lead to a spacious backyard with a vegetable garden, perfect for the eco-conscious family. Embrace sustainable living without compromising on style in this Green Oaks gem.\\nNeighborhood Description: Green Oaks is a close-knit, environmentally-conscious community with access to organic grocery stores, community gardens, and bike paths. Take a stroll through the nearby Green Oaks Park or grab a cup of coffee at the cozy Green Bean Cafe. With easy access to public transportation and bike lanes, commuting is a breeze.', metadata={'row': 0, 'source': './final_real_estate_listing.csv'}), Document(page_content='Neighborhood: Cambridge\\nPrice: $1,450,000\\nBedrooms: 3\\nBathrooms: 2\\nHouse Size: 2,100 sqft\\nDescription: Located just minutes from Harvard and MIT, this sophisticated 3-bedroom, 2-bathroom townhouse in Cambridge blends classic charm with modern updates. The interior features high ceilings, hardwood floors, and custom cabinetry. A renovated kitchen with granite countertops and stainless steel appliances flows into an open-concept living area, ideal for entertaining. Enjoy your morning coffee on the private patio or take a short walk to nearby bookstores, cafes, and gardens.\\nNeighborhood Description: Cambridge is a culturally rich and intellectual hub, home to world-renowned universities, libraries, and research institutions. The area boasts a vibrant arts scene, diverse restaurants, historic architecture, and an efficient public transportation network.', metadata={'row': 9, 'source': './final_real_estate_listing.csv'})]\n"
     ]
    }
   ],
   "source": [
    "buyer_query = house_plain_query\n",
    "output = get_matching_listings(buyer_query)\n",
    "print(output)"
   ]
  },
  {
   "cell_type": "markdown",
   "id": "28a1e694-5ee5-44da-9ae7-18cbdf0c1ff9",
   "metadata": {},
   "source": [
    "### Listing Retrieval Logic: Fine-tune the retrieval algorithm to ensure that the most relevant listings are selected based on the semantic closeness to the buyer’s preferences.\n",
    "\n",
    "#### TODO Improvement: Use Pydantic output parser for structured response rather than using example in the prompt"
   ]
  },
  {
   "cell_type": "code",
   "execution_count": 62,
   "id": "a63f04a4-61c6-484f-b44e-a0e5421b1e90",
   "metadata": {},
   "outputs": [],
   "source": [
    "\n",
    "qa_query = \"\"\"\n",
    "Use the conversation below for my preferences for the house I am searching for. \n",
    "\n",
    "Conversation:\n",
    "{question_and_answer}\n",
    "\n",
    "Return details in structured format strictly as per the response example below. \n",
    "Extract bedrooms, bathrooms number and house size. Structure all other information as a summary in a description field. \n",
    "Do not paraphrase the answers from the user and ensure that the summary matches as close to the answers.\n",
    "If some data is not specified for a field, keep it empty.\n",
    "\n",
    "Response example: \n",
    "{response_format}\n",
    "\n",
    "\"\"\"\n",
    "\n",
    "prompt = PromptTemplate(\n",
    "    template=qa_query,\n",
    "    input_variables=[\"question_and_answer\", \"response_format\"],\n",
    "    #partial_variables={\"format_instructions\": parser.get_format_instructions},\n",
    ")\n",
    "\n",
    "response_format = \"\"\"\n",
    "Bedrooms: 3\n",
    "Bathrooms: 2\n",
    "House Size: 2,000 sqft\n",
    "Description: I am looking for a charming 3-bedroom, 2-bathroom home with energy-efficient features such as solar panels and a well-insulated structure. Natural light should floods the living spaces, highlighting the beautiful hardwood floors and eco-conscious finishes. The open-concept kitchen and dining area with a spacious backyard. I embrace sustainable living without compromising on style.\n",
    "\"\"\"\n",
    "\n",
    "llm_query = prompt.format(question_and_answer=question_and_answer, response_format=response_format)\n",
    "print(llm_query)"
   ]
  },
  {
   "cell_type": "code",
   "execution_count": 71,
   "id": "7591def5-9979-4ed7-bc20-de7c0d524d23",
   "metadata": {},
   "outputs": [
    {
     "name": "stdout",
     "output_type": "stream",
     "text": [
      "Bedrooms: 3\n",
      "Bathrooms: \n",
      "House Size: \n",
      "Description: I am searching for a comfortable three-bedroom house with a spacious kitchen and a cozy living room. My top priorities are a quiet neighborhood, good local schools, and convenient shopping options. I would also like a backyard for gardening, a two-car garage, and a modern, energy-efficient heating system. In terms of transportation, I am looking for easy access to a reliable bus line, proximity to a major highway, and bike-friendly roads. I prefer a neighborhood that strikes a balance between suburban tranquility and access to urban amenities like restaurants and theaters.\n"
     ]
    }
   ],
   "source": [
    "llm_output = llm.invoke(llm_query)\n",
    "print(llm_output)"
   ]
  },
  {
   "cell_type": "code",
   "execution_count": 72,
   "id": "c923c9d7-2a79-40e0-9f0f-2f4fd9406473",
   "metadata": {},
   "outputs": [
    {
     "name": "stdout",
     "output_type": "stream",
     "text": [
      "[Document(page_content='Neighborhood: Brookline\\nPrice: $1,775,000\\nBedrooms: 4\\nBathrooms: 3\\nHouse Size: 2,900 sqft\\nDescription: This elegant 4-bedroom, 3-bathroom colonial in Brookline combines historical details with modern luxury. Step through the grand foyer into spacious living and dining rooms, adorned with crown molding and large bay windows. The chef’s kitchen opens up to a sunny breakfast nook and family room. Upstairs, the primary suite features a walk-in closet and spa bath. A fenced-in backyard and two-car garage round out this ideal suburban retreat.\\nNeighborhood Description: Brookline offers a suburban feel with urban conveniences. Known for its excellent schools, leafy streets, and community-focused atmosphere, Brookline has easy access to downtown Boston via the Green Line, making it popular with families and professionals alike.', metadata={'row': 10, 'source': './final_real_estate_listing.csv'}), Document(page_content='Neighborhood: Cambridge\\nPrice: $1,450,000\\nBedrooms: 3\\nBathrooms: 2\\nHouse Size: 2,100 sqft\\nDescription: Located just minutes from Harvard and MIT, this sophisticated 3-bedroom, 2-bathroom townhouse in Cambridge blends classic charm with modern updates. The interior features high ceilings, hardwood floors, and custom cabinetry. A renovated kitchen with granite countertops and stainless steel appliances flows into an open-concept living area, ideal for entertaining. Enjoy your morning coffee on the private patio or take a short walk to nearby bookstores, cafes, and gardens.\\nNeighborhood Description: Cambridge is a culturally rich and intellectual hub, home to world-renowned universities, libraries, and research institutions. The area boasts a vibrant arts scene, diverse restaurants, historic architecture, and an efficient public transportation network.', metadata={'row': 9, 'source': './final_real_estate_listing.csv'}), Document(page_content=\"Neighborhood: Cedar Grove\\nPrice: $720,000\\nBedrooms: 3\\nBathrooms: 2\\nHouse Size: 2,100 sqft\\nDescription: This beautifully updated single-story home in Cedar Grove blends modern comfort with natural serenity. Boasting 3 bedrooms and 2 full bathrooms, the home welcomes you with its airy open layout, vaulted ceilings, and large windows that frame picturesque views of the surrounding trees. The kitchen is designed for culinary enthusiasts, featuring quartz countertops, a walk-in pantry, and a large island. The master suite offers private backyard access and an ensuite bathroom with a soaking tub, dual vanities, and a walk-in shower.\\nNeighborhood Description: Cedar Grove is known for its lush greenbelts, quiet walking trails, and friendly community events. It's an ideal location for families and retirees alike, with local parks, dog trails, and charming coffee shops that promote a laid-back lifestyle.\", metadata={'row': 3, 'source': './final_real_estate_listing.csv'})]\n"
     ]
    }
   ],
   "source": [
    "buyer_llm_query = llm_output\n",
    "output = get_matching_listings(buyer_llm_query)\n",
    "print(output)"
   ]
  },
  {
   "cell_type": "code",
   "execution_count": null,
   "id": "2a28cda1-918e-4786-96f5-5025ba8f1e7d",
   "metadata": {},
   "outputs": [],
   "source": []
  },
  {
   "cell_type": "markdown",
   "id": "47034026-d53c-46c7-b67d-d7a0cb65bffc",
   "metadata": {},
   "source": [
    "# Step 6: Personalizing Listing Descriptions"
   ]
  },
  {
   "cell_type": "markdown",
   "id": "e94c66f1-1c49-4fad-a156-40196d28f019",
   "metadata": {},
   "source": [
    "### LLM Augmentation\n",
    "For each retrieved listing, use the LLM to augment the description, tailoring it to resonate with the buyer’s specific preferences. \n",
    "This involves subtly emphasizing aspects of the property that align with what the buyer is looking for.\n",
    "\n",
    "#### Maintaining Factual Integrity: Ensure that the augmentation process enhances the appeal of the listing without altering factual information."
   ]
  },
  {
   "cell_type": "code",
   "execution_count": 82,
   "id": "af692813-bb46-4dc5-88a2-55c4712de1c7",
   "metadata": {},
   "outputs": [],
   "source": [
    "preference = \"\"\"\n",
    "Bedrooms: 3\n",
    "Bathrooms: \n",
    "House Size: \n",
    "Description: I am searching for a comfortable three-bedroom house with a spacious kitchen and a cozy living room. My top priorities are a quiet neighborhood, good local schools, and convenient shopping options. I would also like a backyard for gardening, a two-car garage, and a modern, energy-efficient heating system. In terms of transportation, I am looking for easy access to a reliable bus line, proximity to a major highway, and bike-friendly roads. I prefer a neighborhood that strikes a balance between suburban tranquility and access to urban amenities like restaurants and theaters.\n",
    "\"\"\""
   ]
  },
  {
   "cell_type": "code",
   "execution_count": 83,
   "id": "2b61aa01-abb3-4604-9ec4-e43cd6c5f090",
   "metadata": {},
   "outputs": [],
   "source": [
    "query = \"\"\"\n",
    "You are a real estate agent. \n",
    "Based on the houses listings in the context, suggest houses which match the user preference mentioned below.\n",
    "Return the description summary for each matching house emphasizing how it is matching with the user provided preference.\n",
    "Do not add any new factual infromation in your summary. Use the information from the context only and use them to create sales pitch around how they match the user preference.\n",
    "\n",
    "If no such listing of house is found, say nothing matching found.\n",
    "\"\"\""
   ]
  },
  {
   "cell_type": "code",
   "execution_count": 84,
   "id": "8eefd941-1313-4695-8e52-3718c9b50e3c",
   "metadata": {},
   "outputs": [
    {
     "name": "stdout",
     "output_type": "stream",
     "text": [
      " The neighborhood also offers easy access to major highways and public transportation options.\n",
      "\n",
      "Matching houses found:\n",
      "\n",
      "1. Neighborhood: Brookline\n",
      "Price: $1,775,000\n",
      "Bedrooms: 6\n",
      "Bathrooms: 3\n",
      "House Size: 2,900 sqft\n",
      "Description: This stunning 6-bedroom colonial in Brookline offers the perfect combination of suburban tranquility and urban convenience. With a spacious kitchen, cozy living room, and a fenced-in backyard for gardening, this home has everything you're looking for. The quiet neighborhood is known for its excellent schools and easy access to downtown Boston via the Green Line. Don't miss out on this ideal family home.\n",
      "\n",
      "2. Neighborhood: Cambridge\n",
      "Price: $1,450,000\n",
      "Bedrooms: 3\n",
      "Bathrooms: 2\n",
      "House Size: 2,100 sqft\n",
      "Description: Located just minutes from Harvard and MIT, this sophisticated 3-bedroom townhouse in Cambridge is the perfect blend of classic charm and modern updates. With a renovated kitchen, open-concept living area, and private patio, this home is ideal for entertaining. The neighborhood offers a vibrant arts scene, diverse restaurants, and an efficient public transportation network, making it a popular choice for professionals and families.\n",
      "\n",
      "3. Neighborhood: Cedar Grove\n",
      "Price: $720,000\n",
      "Bedrooms: 3\n",
      "Bathrooms: 2\n",
      "House Size: 2,100 sqft\n",
      "Description: This beautifully updated single-story home in Cedar Grove is the perfect combination of modern comfort and natural serenity. With 3 bedrooms, 2 full bathrooms, and a spacious open layout, this home is ideal for those seeking a peaceful lifestyle. The neighborhood offers lush greenbelts, quiet walking trails, and charming coffee shops, making it a great choice for families and retirees. Don't miss out on this gem.\n"
     ]
    }
   ],
   "source": [
    "similar_listings = get_matching_listings(preference)\n",
    "#print(similar_listings[0])\n",
    "prompt = PromptTemplate(\n",
    "    template=\"{query}\\nUser Preference: {user_preference}\\nContext: {context}\",\n",
    "    input_variables=[\"query\", \"user_preference\", \"context\"],\n",
    ")\n",
    "\n",
    "chain = load_qa_chain(llm, prompt = prompt, chain_type=\"stuff\")\n",
    "print(chain.run(input_documents=similar_listings, query = query, user_preference=preference))"
   ]
  },
  {
   "cell_type": "code",
   "execution_count": null,
   "id": "2f23f6f9-80ba-496d-8c2e-ca9cff3eef0e",
   "metadata": {},
   "outputs": [],
   "source": []
  }
 ],
 "metadata": {
  "kernelspec": {
   "display_name": "Python [conda env:genai] *",
   "language": "python",
   "name": "conda-env-genai-py"
  },
  "language_info": {
   "codemirror_mode": {
    "name": "ipython",
    "version": 3
   },
   "file_extension": ".py",
   "mimetype": "text/x-python",
   "name": "python",
   "nbconvert_exporter": "python",
   "pygments_lexer": "ipython3",
   "version": "3.10.16"
  }
 },
 "nbformat": 4,
 "nbformat_minor": 5
}
