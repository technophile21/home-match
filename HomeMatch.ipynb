{
 "cells": [
  {
   "cell_type": "markdown",
   "id": "c41026b1-23f1-4547-b071-567f62c47bba",
   "metadata": {},
   "source": [
    "# Step 1: Setting Up the Python Application"
   ]
  },
  {
   "cell_type": "code",
   "execution_count": 30,
   "id": "e4a9a3ac-4f24-4c1d-ab36-4ed754242449",
   "metadata": {},
   "outputs": [],
   "source": [
    "from langchain_community.embeddings.openai import OpenAIEmbeddings\n",
    "from langchain_community.llms import OpenAI\n",
    "from langchain_community.vectorstores import Chroma\n",
    "from langchain.chains import RetrievalQA\n",
    "from langchain_core.prompts.prompt import PromptTemplate\n",
    "from langchain.document_loaders.csv_loader import CSVLoader\n",
    "from langchain.chains.question_answering.chain import load_qa_chain"
   ]
  },
  {
   "cell_type": "code",
   "execution_count": 9,
   "id": "8aa8e9c2-61c8-4257-9e1e-81d862338149",
   "metadata": {},
   "outputs": [],
   "source": [
    "import os\n",
    "\n",
    "os.environ[\"OPENAI_API_KEY\"] = \"API_KEY_HERE\"\n",
    "os.environ[\"OPENAI_API_BASE\"] = \"https://openai.vocareum.com/v1\""
   ]
  },
  {
   "cell_type": "code",
   "execution_count": 10,
   "id": "73910439-900e-4a78-bbd4-121615dd39dc",
   "metadata": {},
   "outputs": [
    {
     "data": {
      "text/plain": [
       "OpenAI(client=<class 'openai.api_resources.completion.Completion'>, temperature=0.0, max_tokens=2000, model_kwargs={}, openai_api_key='voc-589459551126677348884666dc80e0ebfee7.97941068', openai_api_base='https://openai.vocareum.com/v1', openai_proxy='', logit_bias={})"
      ]
     },
     "execution_count": 10,
     "metadata": {},
     "output_type": "execute_result"
    }
   ],
   "source": [
    "# Initialise LLM\n",
    "\n",
    "llm = OpenAI(\n",
    "    model=\"gpt-3.5-turbo-instruct\",\n",
    "    temperature=0,\n",
    "    max_tokens=2000\n",
    "    # api_key=\"...\",\n",
    "    # base_url=\"...\",\n",
    "    # organization=\"...\",\n",
    "    # other params...\n",
    ")\n",
    "llm"
   ]
  },
  {
   "cell_type": "markdown",
   "id": "e06f5c9f-3d95-4c8d-8e47-52316e1b466a",
   "metadata": {
    "jp-MarkdownHeadingCollapsed": true
   },
   "source": [
    "# Step 2: Generating Real Estate Listings\n",
    "\n",
    "#### Note: This prompt is mentioned for information on how I generated it using ChatGPT app. From there, the listings were saved in a csv file and used ahead in the project work."
   ]
  },
  {
   "cell_type": "code",
   "execution_count": null,
   "id": "17c60e6f-fd2b-4adb-bead-9715c3c6d49e",
   "metadata": {},
   "outputs": [],
   "source": [
    "# Do not need to run this cell\n",
    "\n",
    "listing_prompt = \"\"\"\n",
    "Generate 12-15 real estate listings for home, which can help a home buyer to understand various parameters, home description,  locality description, etc..  Listing should be diverse and have diverse descriptions and neighborhoods. \n",
    "Make the descriptions in listings long and more descriptive as provided in the sample listing. Ensure that they remain diverse.\n",
    "\n",
    "A sample listing is given below:\n",
    "\n",
    "Neighborhood: Green Oaks\n",
    "Price: $800,000\n",
    "Bedrooms: 3\n",
    "Bathrooms: 2\n",
    "House Size: 2,000 sqft\n",
    "\n",
    "Description: Welcome to this eco-friendly oasis nestled in the heart of Green Oaks. This charming 3-bedroom, 2-bathroom home boasts energy-efficient features such as solar panels and a well-insulated structure. Natural light floods the living spaces, highlighting the beautiful hardwood floors and eco-conscious finishes. The open-concept kitchen and dining area lead to a spacious backyard with a vegetable garden, perfect for the eco-conscious family. Embrace sustainable living without compromising on style in this Green Oaks gem.\n",
    "\n",
    "Neighborhood Description: Green Oaks is a close-knit, environmentally-conscious community with access to organic grocery stores, community gardens, and bike paths. Take a stroll through the nearby Green Oaks Park or grab a cup of coffee at the cozy Green Bean Cafe. With easy access to public transportation and bike lanes, commuting is a breeze.\n",
    "\"\"\"\n",
    "\n",
    "out_listings = llm.invoke(listing_prompt)\n",
    "print(out_listings)"
   ]
  },
  {
   "cell_type": "markdown",
   "id": "3ad58d72-f655-43fc-9a2f-d2ddb939b246",
   "metadata": {},
   "source": [
    "# Step 3: Storing Listings in a Vector Database"
   ]
  },
  {
   "cell_type": "markdown",
   "id": "cdd208a5-c5fa-4dc1-9c87-b3bf803561dc",
   "metadata": {},
   "source": [
    "## Vector Database Setup: \n",
    "Initialize and configure ChromaDB or a similar vector database to store real estate listings.\n",
    "Generating and Storing Embeddings: Convert the LLM-generated listings into suitable embeddings that capture the semantic content of each listing, and store these embeddings in the vector database."
   ]
  },
  {
   "cell_type": "markdown",
   "id": "4cd028ff-733c-4a58-80ac-90bb0049a815",
   "metadata": {},
   "source": [
    "### Load data"
   ]
  },
  {
   "cell_type": "code",
   "execution_count": 11,
   "id": "d7a2c221-6b5f-4d5c-b6e2-a87e753e373f",
   "metadata": {},
   "outputs": [
    {
     "data": {
      "text/plain": [
       "[Document(metadata={'source': './Listings.csv', 'row': 0}, page_content='Neighborhood: Green Oaks\\nPrice: $800,000\\nBedrooms: 3\\nBathrooms: 2\\nHouse Size: 2,000 sqft\\nDescription: Welcome to this eco-friendly oasis nestled in the heart of Green Oaks. This charming 3-bedroom, 2-bathroom home boasts energy-efficient features such as solar panels and a well-insulated structure. Natural light floods the living spaces, highlighting the beautiful hardwood floors and eco-conscious finishes. The open-concept kitchen and dining area lead to a spacious backyard with a vegetable garden, perfect for the eco-conscious family. Embrace sustainable living without compromising on style in this Green Oaks gem.\\nNeighborhood Description: Green Oaks is a close-knit, environmentally-conscious community with access to organic grocery stores, community gardens, and bike paths. Take a stroll through the nearby Green Oaks Park or grab a cup of coffee at the cozy Green Bean Cafe. With easy access to public transportation and bike lanes, commuting is a breeze.'),\n",
       " Document(metadata={'source': './Listings.csv', 'row': 1}, page_content='Neighborhood: Seaside Cove\\nPrice: $1,200,000\\nBedrooms: 4\\nBathrooms: 3\\nHouse Size: 2,800 sqft\\nDescription: Step into coastal luxury with this magnificent 4-bedroom, 3-bathroom home located just steps from the shore in Seaside Cove. This residence features a wide open floor plan with panoramic ocean views, high vaulted ceilings, and a chef-inspired kitchen with granite countertops and state-of-the-art appliances. The master suite includes a private balcony overlooking the beach and a spa-like bathroom with a soaking tub and walk-in shower. An expansive outdoor deck is perfect for entertaining guests as the sun sets over the water.\\nNeighborhood Description: Seaside Cove is a charming coastal town beloved for its relaxed ambiance, vibrant boardwalk, and stunning beaches. Residents enjoy local seafood restaurants, beach yoga classes, and weekend surf competitions. With walkable amenities and a warm community spirit, Seaside Cove is coastal living at its finest.'),\n",
       " Document(metadata={'source': './Listings.csv', 'row': 2}, page_content='Neighborhood: Maple Heights\\nPrice: $650,000\\nBedrooms: 3\\nBathrooms: 2\\nHouse Size: 1,850 sqft\\nDescription: Nestled among towering maple trees, this beautifully restored craftsman home offers a harmonious blend of historic charm and modern amenities. Inside, original hardwood floors and detailed woodwork speak to its rich heritage, while the renovated kitchen features quartz counters, stainless steel appliances, and a large island for gatherings. The sunlit living room and cozy fireplace provide a welcoming ambiance, and the screened-in porch is ideal for enjoying warm evenings year-round.\\nNeighborhood Description: Maple Heights is a picturesque neighborhood known for its historic homes, top-rated schools, and strong sense of community. Families enjoy walking to neighborhood parks, participating in local parades, and attending farmers markets on the town green each weekend.'),\n",
       " Document(metadata={'source': './Listings.csv', 'row': 3}, page_content=\"Neighborhood: Cedar Grove\\nPrice: $720,000\\nBedrooms: 3\\nBathrooms: 2\\nHouse Size: 2,100 sqft\\nDescription: This beautifully updated single-story home in Cedar Grove blends modern comfort with natural serenity. Boasting 3 bedrooms and 2 full bathrooms, the home welcomes you with its airy open layout, vaulted ceilings, and large windows that frame picturesque views of the surrounding trees. The kitchen is designed for culinary enthusiasts, featuring quartz countertops, a walk-in pantry, and a large island. The master suite offers private backyard access and an ensuite bathroom with a soaking tub, dual vanities, and a walk-in shower.\\nNeighborhood Description: Cedar Grove is known for its lush greenbelts, quiet walking trails, and friendly community events. It's an ideal location for families and retirees alike, with local parks, dog trails, and charming coffee shops that promote a laid-back lifestyle.\"),\n",
       " Document(metadata={'source': './Listings.csv', 'row': 4}, page_content=\"Neighborhood: Lakeview Estates\\nPrice: $875,000\\nBedrooms: 4\\nBathrooms: 3\\nHouse Size: 2,600 sqft\\nDescription: Elegance meets tranquility in this lakeside residence nestled within Lakeview Estates. This spacious 4-bedroom, 3-bathroom home features a grand foyer, formal dining room, and a gourmet kitchen equipped with high-end appliances and a breakfast nook overlooking the water. The family room includes a fireplace and glass doors leading to the patio with lake views. The upstairs master retreat boasts a sitting area, walk-in closet, and spa-style bath. Perfect for both entertaining and everyday relaxation.\\nNeighborhood Description: Lakeview Estates is a sought-after waterfront community offering residents access to private boat docks, kayaking spots, and scenic jogging trails. It's a quiet escape with proximity to top schools and upscale shopping and dining.\"),\n",
       " Document(metadata={'source': './Listings.csv', 'row': 5}, page_content=\"Neighborhood: Sunnyvale Hills\\nPrice: $1,100,000\\nBedrooms: 5\\nBathrooms: 4\\nHouse Size: 3,200 sqft\\nDescription: This expansive 5-bedroom, 4-bathroom home sits on a gently sloping lot in the prestigious Sunnyvale Hills neighborhood. With panoramic views of the valley, the property features a double-height entryway, a formal living room with a fireplace, and a custom-designed kitchen with dual ovens and a butler's pantry. The main floor includes a guest suite, while the upstairs master suite has a private terrace, spa bath, and his-and-her closets. The backyard is a landscaped paradise with a pool, hot tub, and outdoor kitchen.\\nNeighborhood Description: Sunnyvale Hills is known for its luxurious estates, excellent schools, and tranquil hillside scenery. Residents benefit from close proximity to major tech campuses, parks, and fine dining, while enjoying the peaceful environment that defines this neighborhood.\"),\n",
       " Document(metadata={'source': './Listings.csv', 'row': 6}, page_content='Neighborhood: Palo Alto\\nPrice: $2,350,000\\nBedrooms: 4\\nBathrooms: 3\\nHouse Size: 2,800 sqft\\nDescription: This stunning 4-bedroom, 3-bathroom contemporary home in Palo Alto offers an exceptional blend of elegance and function. The home features a bright and airy interior with skylights, hardwood flooring, and a chef’s kitchen with a large island and premium appliances. The master suite includes a spa-style bath and a private deck overlooking a landscaped backyard. Perfect for indoor-outdoor living, this home also includes a patio, firepit, and built-in grill for entertaining.\\nNeighborhood Description: Located in the heart of Silicon Valley, Palo Alto is known for its excellent schools, tech innovation, and vibrant downtown scene. Residents enjoy world-class dining, boutique shopping, and access to parks and hiking trails, all within a highly walkable and bike-friendly city.'),\n",
       " Document(metadata={'source': './Listings.csv', 'row': 7}, page_content='Neighborhood: Menlo Park\\nPrice: $1,875,000\\nBedrooms: 3\\nBathrooms: 2\\nHouse Size: 2,300 sqft\\nDescription: This elegant 3-bedroom, 2-bathroom home in Menlo Park is perfect for families and professionals. Inside, the home features a spacious open-concept floor plan, high-end finishes, and a remodeled kitchen with quartz countertops and ample cabinetry. The living room opens up to a sunny backyard complete with a pergola-covered patio and mature fruit trees.\\nNeighborhood Description: Menlo Park is a prestigious and family-friendly neighborhood with excellent schools, leafy streets, and a relaxed suburban feel. It offers proximity to tech campuses, boutique stores, coffee shops, and Caltrain for an easy commute to San Francisco or San Jose.'),\n",
       " Document(metadata={'source': './Listings.csv', 'row': 8}, page_content='Neighborhood: San Mateo Hills\\nPrice: $1,350,000\\nBedrooms: 4\\nBathrooms: 3\\nHouse Size: 2,700 sqft\\nDescription: Located in the scenic San Mateo Hills, this 4-bedroom, 3-bathroom residence is the epitome of comfortable luxury. The home boasts a formal entry, large living and dining areas, and a gourmet kitchen with stainless steel appliances. Enjoy bay views from the upstairs bedrooms, and step outside to a beautifully landscaped garden with a koi pond and stone walkways.\\nNeighborhood Description: San Mateo Hills offers residents sweeping views of the Bay Area, peaceful cul-de-sacs, and close proximity to Crystal Springs Reservoir. Known for its safe, community-focused environment, the area also features excellent schools, hiking trails, and quick access to Highway 92 and I-280.'),\n",
       " Document(metadata={'source': './Listings.csv', 'row': 9}, page_content='Neighborhood: Cambridge\\nPrice: $1,450,000\\nBedrooms: 3\\nBathrooms: 2\\nHouse Size: 2,100 sqft\\nDescription: Located just minutes from Harvard and MIT, this sophisticated 3-bedroom, 2-bathroom townhouse in Cambridge blends classic charm with modern updates. The interior features high ceilings, hardwood floors, and custom cabinetry. A renovated kitchen with granite countertops and stainless steel appliances flows into an open-concept living area, ideal for entertaining. Enjoy your morning coffee on the private patio or take a short walk to nearby bookstores, cafes, and gardens.\\nNeighborhood Description: Cambridge is a culturally rich and intellectual hub, home to world-renowned universities, libraries, and research institutions. The area boasts a vibrant arts scene, diverse restaurants, historic architecture, and an efficient public transportation network.'),\n",
       " Document(metadata={'source': './Listings.csv', 'row': 10}, page_content='Neighborhood: Brookline\\nPrice: $1,775,000\\nBedrooms: 4\\nBathrooms: 3\\nHouse Size: 2,900 sqft\\nDescription: This elegant 4-bedroom, 3-bathroom colonial in Brookline combines historical details with modern luxury. Step through the grand foyer into spacious living and dining rooms, adorned with crown molding and large bay windows. The chef’s kitchen opens up to a sunny breakfast nook and family room. Upstairs, the primary suite features a walk-in closet and spa bath. A fenced-in backyard and two-car garage round out this ideal suburban retreat.\\nNeighborhood Description: Brookline offers a suburban feel with urban conveniences. Known for its excellent schools, leafy streets, and community-focused atmosphere, Brookline has easy access to downtown Boston via the Green Line, making it popular with families and professionals alike.'),\n",
       " Document(metadata={'source': './Listings.csv', 'row': 11}, page_content='Neighborhood: Jamaica Plain\\nPrice: $985,000\\nBedrooms: 3\\nBathrooms: 2\\nHouse Size: 1,900 sqft\\nDescription: This beautifully maintained 3-bedroom, 2-bathroom Victorian in Jamaica Plain is full of character and warmth. The home features original woodwork, a fireplace, and a wraparound porch. The updated kitchen and baths offer modern comforts, while the landscaped backyard includes a garden and space for outdoor gatherings. A short walk to the Arboretum and Jamaica Pond provides serene escapes in nature right in the city.\\nNeighborhood Description: Jamaica Plain is one of Boston’s most eclectic neighborhoods, known for its diversity, community activism, and abundant green spaces. JP offers a relaxed vibe with coffee shops, local breweries, art studios, and weekend markets, making it a favorite among artists and young families.'),\n",
       " Document(metadata={'source': './Listings.csv', 'row': 12}, page_content=\"Neighborhood: North End, Boston\\nPrice: $680,000\\nBedrooms: 1\\nBathrooms: 1\\nHouse Size: 750 sqft\\nDescription: This charming 1-bedroom condo in the heart of Boston's historic North End is perfect for city living. Featuring exposed brick walls, hardwood flooring, and a modern galley kitchen, the space is thoughtfully designed for comfort and efficiency. The bedroom offers built-in closets and plenty of natural light. Enjoy coffee on your private balcony or explore nearby Italian restaurants and bakeries.\\nNeighborhood Description: North End is Boston’s oldest residential neighborhood, famous for its Italian heritage, narrow streets, and vibrant food scene. With close proximity to the waterfront and downtown, it’s ideal for professionals and history enthusiasts.\"),\n",
       " Document(metadata={'source': './Listings.csv', 'row': 13}, page_content='Neighborhood: Mission Hill, Boston\\nPrice: $710,000\\nBedrooms: 2\\nBathrooms: 1\\nHouse Size: 1,100 sqft\\nDescription: This beautifully updated 2-bedroom condo in Mission Hill offers stunning views of the city skyline. Open-concept living and dining areas, a newly remodeled kitchen with quartz countertops, and a shared backyard make it perfect for young professionals or students. Bedrooms are well-sized, and the bathroom is finished with stylish tile work and modern fixtures.\\nNeighborhood Description: Mission Hill is a lively neighborhood with a mix of students, medical professionals, and long-time residents. Close to Longwood Medical Area, universities, and transit, it’s a well-connected and culturally diverse enclave.'),\n",
       " Document(metadata={'source': './Listings.csv', 'row': 14}, page_content='Neighborhood: Burlingame, CA\\nPrice: $925,000\\nBedrooms: 2\\nBathrooms: 2\\nHouse Size: 1,180 sqft\\nDescription: A rare find in the Peninsula, this 2-bedroom, 2-bathroom condo in Burlingame is both modern and functional. With a spacious layout under 1,200 sqft, it features laminate wood floors, in-unit laundry, and a sunny balcony. The primary bedroom includes an ensuite bathroom and generous closet space.\\nNeighborhood Description: Burlingame is a charming city known for its tree-lined streets, top-rated schools, and vibrant downtown filled with cafes, boutiques, and bakeries. Ideal for commuters, it offers quick access to Caltrain, SFO, and Highway 101.'),\n",
       " Document(metadata={'source': './Listings.csv', 'row': 15}, page_content='Neighborhood: Redwood City, CA\\nPrice: $845,000\\nBedrooms: 2\\nBathrooms: 1\\nHouse Size: 1,050 sqft\\nDescription: Welcome to this cozy and updated 2-bedroom cottage in Redwood City. The home boasts a functional single-story layout, refinished hardwood floors, and a large backyard with patio. The kitchen is equipped with stainless steel appliances and connects to a breakfast nook that overlooks the garden.\\nNeighborhood Description: Redwood City offers a blend of suburban charm and urban convenience with a revitalized downtown, community events, and easy access to major employers in Silicon Valley. It’s a sought-after location for both first-time buyers and downsizers.')]"
      ]
     },
     "execution_count": 11,
     "metadata": {},
     "output_type": "execute_result"
    }
   ],
   "source": [
    "csvLoader = CSVLoader(file_path=\"./Listings.csv\")\n",
    "listings = csvLoader.load()\n",
    "listings\n",
    "\n",
    "# Scope of improvements:\n",
    "# 1. Create list of documents with custom metadata colums, like price, bedrooms, etc. can go in there. \n",
    "# 2. OR Use latest version for putting numeric columns in metadata_columns\n",
    "# 3. Can use a LLM to summarise a row in more verbose description matching a human description of the house and use that as page_content for Document"
   ]
  },
  {
   "cell_type": "markdown",
   "id": "5c9c6ea8-4109-4547-9e82-0870e5ff2335",
   "metadata": {},
   "source": [
    "### Initialise embeddings"
   ]
  },
  {
   "cell_type": "code",
   "execution_count": 12,
   "id": "dca1179a-0b8f-45a5-8d56-59debecef5fe",
   "metadata": {},
   "outputs": [
    {
     "data": {
      "text/plain": [
       "OpenAIEmbeddings(client=<class 'openai.api_resources.embedding.Embedding'>, async_client=None, model='text-embedding-ada-002', deployment='text-embedding-ada-002', openai_api_version='', openai_api_base='https://openai.vocareum.com/v1', openai_api_type='', openai_proxy='', embedding_ctx_length=8191, openai_api_key='voc-589459551126677348884666dc80e0ebfee7.97941068', openai_organization=None, allowed_special=set(), disallowed_special='all', chunk_size=1000, max_retries=2, request_timeout=None, headers=None, tiktoken_enabled=True, tiktoken_model_name=None, show_progress_bar=False, model_kwargs={}, skip_empty=False, default_headers=None, default_query=None, retry_min_seconds=4, retry_max_seconds=20, http_client=None)"
      ]
     },
     "execution_count": 12,
     "metadata": {},
     "output_type": "execute_result"
    }
   ],
   "source": [
    "embed = OpenAIEmbeddings()\n",
    "embed"
   ]
  },
  {
   "cell_type": "markdown",
   "id": "de9387ad-b4b0-4815-9d84-d5c324f2032e",
   "metadata": {},
   "source": [
    "### Create Vector store from the data"
   ]
  },
  {
   "cell_type": "code",
   "execution_count": 13,
   "id": "5624d8e4-6fa0-4ba9-a824-04652c3d8b9c",
   "metadata": {},
   "outputs": [
    {
     "data": {
      "text/plain": [
       "<langchain_community.vectorstores.chroma.Chroma at 0x11c7db100>"
      ]
     },
     "execution_count": 13,
     "metadata": {},
     "output_type": "execute_result"
    }
   ],
   "source": [
    "vectorStore = Chroma.from_documents(listings, embed)\n",
    "vectorStore"
   ]
  },
  {
   "cell_type": "code",
   "execution_count": 14,
   "id": "e047cece-a1f7-441b-b93a-48b52e99551e",
   "metadata": {},
   "outputs": [
    {
     "data": {
      "text/plain": [
       "[Document(metadata={'source': './Listings.csv', 'row': 3}, page_content=\"Neighborhood: Cedar Grove\\nPrice: $720,000\\nBedrooms: 3\\nBathrooms: 2\\nHouse Size: 2,100 sqft\\nDescription: This beautifully updated single-story home in Cedar Grove blends modern comfort with natural serenity. Boasting 3 bedrooms and 2 full bathrooms, the home welcomes you with its airy open layout, vaulted ceilings, and large windows that frame picturesque views of the surrounding trees. The kitchen is designed for culinary enthusiasts, featuring quartz countertops, a walk-in pantry, and a large island. The master suite offers private backyard access and an ensuite bathroom with a soaking tub, dual vanities, and a walk-in shower.\\nNeighborhood Description: Cedar Grove is known for its lush greenbelts, quiet walking trails, and friendly community events. It's an ideal location for families and retirees alike, with local parks, dog trails, and charming coffee shops that promote a laid-back lifestyle.\"),\n",
       " Document(metadata={'source': './Listings.csv', 'row': 1}, page_content='Neighborhood: Seaside Cove\\nPrice: $1,200,000\\nBedrooms: 4\\nBathrooms: 3\\nHouse Size: 2,800 sqft\\nDescription: Step into coastal luxury with this magnificent 4-bedroom, 3-bathroom home located just steps from the shore in Seaside Cove. This residence features a wide open floor plan with panoramic ocean views, high vaulted ceilings, and a chef-inspired kitchen with granite countertops and state-of-the-art appliances. The master suite includes a private balcony overlooking the beach and a spa-like bathroom with a soaking tub and walk-in shower. An expansive outdoor deck is perfect for entertaining guests as the sun sets over the water.\\nNeighborhood Description: Seaside Cove is a charming coastal town beloved for its relaxed ambiance, vibrant boardwalk, and stunning beaches. Residents enjoy local seafood restaurants, beach yoga classes, and weekend surf competitions. With walkable amenities and a warm community spirit, Seaside Cove is coastal living at its finest.'),\n",
       " Document(metadata={'row': 14, 'source': './Listings.csv'}, page_content='Neighborhood: Burlingame, CA\\nPrice: $925,000\\nBedrooms: 2\\nBathrooms: 2\\nHouse Size: 1,180 sqft\\nDescription: A rare find in the Peninsula, this 2-bedroom, 2-bathroom condo in Burlingame is both modern and functional. With a spacious layout under 1,200 sqft, it features laminate wood floors, in-unit laundry, and a sunny balcony. The primary bedroom includes an ensuite bathroom and generous closet space.\\nNeighborhood Description: Burlingame is a charming city known for its tree-lined streets, top-rated schools, and vibrant downtown filled with cafes, boutiques, and bakeries. Ideal for commuters, it offers quick access to Caltrain, SFO, and Highway 101.')]"
      ]
     },
     "execution_count": 14,
     "metadata": {},
     "output_type": "execute_result"
    }
   ],
   "source": [
    "#Test: Do not need to run this cell\n",
    "\n",
    "# Sample query semantic similarity search\n",
    "\n",
    "sample_query = \"\"\"\n",
    "Houses which are 3 bedrooms, 2 baths and are in the neighbourhood with lots of trees and near the ocean. \n",
    "\"\"\"\n",
    "\n",
    "# find top 3 semantically similar documents to the query\n",
    "result = vectorStore.similarity_search(query=sample_query, k=3)\n",
    "result"
   ]
  },
  {
   "cell_type": "markdown",
   "id": "d89d9b5f-82dd-4044-a8db-51821c1a40b1",
   "metadata": {
    "jp-MarkdownHeadingCollapsed": true
   },
   "source": [
    "# Test: Use a basic query and RAG approach to get LLM output for user query. \n",
    "\n",
    "#### Test: Do not need to run this section"
   ]
  },
  {
   "cell_type": "code",
   "execution_count": 20,
   "id": "65f4b880-18b4-4066-ad15-aa51a2cda8ae",
   "metadata": {},
   "outputs": [
    {
     "name": "stdout",
     "output_type": "stream",
     "text": [
      "\n",
      "Neighborhood: Cedar Grove\n",
      "Price: $720,000\n",
      "Bedrooms: 3\n",
      "Bathrooms: 2\n",
      "House Size: 2,100 sqft\n",
      "Description: This beautifully updated single-story home in Cedar Grove blends modern comfort with natural serenity. Boasting 3 bedrooms and 2 full bathrooms, the home welcomes you with its airy open layout, vaulted ceilings, and large windows that frame picturesque views of the surrounding trees. The kitchen is designed for culinary enthusiasts, featuring quartz countertops, a walk-in pantry, and a large island. The master suite offers private backyard access and an ensuite bathroom with a soaking tub, dual vanities, and a walk-in shower.\n",
      "Neighborhood Description: Cedar Grove is known for its lush greenbelts, quiet walking trails, and friendly community events. It's an ideal location for families and retirees alike, with local parks, dog trails, and charming coffee shops that promote a laid-back lifestyle.\n"
     ]
    }
   ],
   "source": [
    "\n",
    "query = \"\"\"\n",
    "Based on the houses listing in the context, suggest houses which are at least 3 bedrooms and 2 baths and are in the neighbourhood with lots of trees. \n",
    "A balance between suburban tranquility and access to urban amenities like restaurants and theaters. \n",
    "Try to provide the description as close to the context and in similar format. If no such listing of house is found, say nothing matching found.\n",
    "\"\"\"\n",
    "\n",
    "# No result test case\n",
    "'''\n",
    "query = \"\"\"\n",
    "Based on the houses listing in the context, suggest houses which are at least 6 bedrooms and 4 baths and are in the neighbourhood with lots of trees. \n",
    "A balance between suburban tranquility and access to urban amenities like restaurants and theaters. \n",
    "Try to provide the description as close to the context and in similar format. If no such listing of house is found, say nothing matching found.\n",
    "\"\"\"\n",
    "'''\n",
    "\n",
    "use_chain_helper = True\n",
    "if use_chain_helper:\n",
    "    rag = RetrievalQA.from_chain_type(llm=llm, chain_type=\"stuff\", retriever=vectorStore.as_retriever())\n",
    "    print(rag.run(query))\n",
    "else:\n",
    "    similar_docs = vectorStore.similarity_search(query=query, k=5)\n",
    "    print(similar_docs[0])\n",
    "    prompt = PromptTemplate(\n",
    "        template=\"{query}\\nContext: {context}\",\n",
    "        input_variables=[\"query\", \"context\"],\n",
    "    )\n",
    "    chain = load_qa_chain(llm, prompt = prompt, chain_type=\"stuff\")\n",
    "    print(chain.run(input_documents=similar_docs, query = query))"
   ]
  },
  {
   "cell_type": "markdown",
   "id": "5cd980bd-2357-42b0-b2e3-c2b59996c26c",
   "metadata": {},
   "source": [
    "# Step 4: Building the User Preference Interface"
   ]
  },
  {
   "cell_type": "markdown",
   "id": "2663189d-ecfd-42c7-b20c-9105e8a32152",
   "metadata": {},
   "source": [
    "### Collect buyer preferences, such as the number of bedrooms, bathrooms, location, and other specific requirements from a set of questions or telling the buyer to enter their preferences in natural language."
   ]
  },
  {
   "cell_type": "code",
   "execution_count": 101,
   "id": "a5bb47fc-cbd5-42eb-9b52-20835ee831af",
   "metadata": {},
   "outputs": [],
   "source": [
    "# Sample question answer hardcoded\n",
    "\n",
    "questions = [\n",
    "    \"How big do you want your house to be?\", \n",
    "    \"What are 3 most important things for you in choosing this property?\", \n",
    "    \"Which amenities would you like?\", \n",
    "    \"Which transportation options are important to you?\", \n",
    "    \"How urban do you want your neighborhood to be?\"\n",
    "]\n",
    "\n",
    "answers = [ \n",
    "    \"A comfortable three-bedroom house with a spacious kitchen and a cozy living room.\",\n",
    "    \"A quiet neighborhood, good local schools, and convenient shopping options.\",\n",
    "    \"A backyard for gardening, a two-car garage, and a modern, energy-efficient heating system.\",\n",
    "    \"Easy access to a reliable bus line, proximity to a major highway, and bike-friendly roads.\",\n",
    "    \"A balance between suburban tranquility and access to urban amenities like restaurants and theaters.\"\n",
    "]"
   ]
  },
  {
   "cell_type": "markdown",
   "id": "fdeac53f-edaf-4bba-b552-50eb8400adc6",
   "metadata": {},
   "source": [
    "### Buyer Preference Parsing: Implement logic to interpret and structure these preferences for querying the vector database."
   ]
  },
  {
   "cell_type": "code",
   "execution_count": 63,
   "id": "b9ea19b2-dd19-4628-aec4-d9c8eb0cd5a9",
   "metadata": {},
   "outputs": [
    {
     "name": "stdout",
     "output_type": "stream",
     "text": [
      "Looking for a house as descirbed here.  A comfortable three-bedroom house with a spacious kitchen and a cozy living room.  A quiet neighborhood, good local schools, and convenient shopping options.  A backyard for gardening, a two-car garage, and a modern, energy-efficient heating system.  Easy access to a reliable bus line, proximity to a major highway, and bike-friendly roads.  A balance between suburban tranquility and access to urban amenities like restaurants and theaters. \n"
     ]
    }
   ],
   "source": [
    "#Test: Do not need to run this cell\n",
    "\n",
    "house_plain_query = \"Looking for a house as descirbed here. \"\n",
    "for i in range(len(answers)):\n",
    "    house_plain_query += f\" {answers[i]} \"\n",
    "\n",
    "print(house_plain_query)"
   ]
  },
  {
   "cell_type": "code",
   "execution_count": 102,
   "id": "3d7bb037-903b-4547-bb8e-de2e29e9e7cd",
   "metadata": {},
   "outputs": [
    {
     "name": "stdout",
     "output_type": "stream",
     "text": [
      "\n",
      "Question: How big do you want your house to be?\n",
      "Answer: A comfortable three-bedroom house with a spacious kitchen and a cozy living room.\n",
      "Question: What are 3 most important things for you in choosing this property?\n",
      "Answer: A quiet neighborhood, good local schools, and convenient shopping options.\n",
      "Question: Which amenities would you like?\n",
      "Answer: A backyard for gardening, a two-car garage, and a modern, energy-efficient heating system.\n",
      "Question: Which transportation options are important to you?\n",
      "Answer: Easy access to a reliable bus line, proximity to a major highway, and bike-friendly roads.\n",
      "Question: How urban do you want your neighborhood to be?\n",
      "Answer: A balance between suburban tranquility and access to urban amenities like restaurants and theaters.\n"
     ]
    }
   ],
   "source": [
    "question_and_answer = \"\"\n",
    "for i in range(len(questions)):\n",
    "    question_and_answer += f\"\\nQuestion: {questions[i]}\"\n",
    "    question_and_answer += f\"\\nAnswer: {answers[i]}\"\n",
    "\n",
    "print(question_and_answer)"
   ]
  },
  {
   "cell_type": "markdown",
   "id": "e17f7d09-2257-4063-ada0-ec0691392beb",
   "metadata": {},
   "source": [
    "# Step 5: Searching Based on Preferences"
   ]
  },
  {
   "cell_type": "markdown",
   "id": "de0a8c04-95f1-41fc-925d-629cec5ff990",
   "metadata": {},
   "source": [
    "### Semantic Search Implementation: Use the structured buyer preferences to perform a semantic search on the vector database, retrieving listings that most closely match the user's requirements."
   ]
  },
  {
   "cell_type": "code",
   "execution_count": 44,
   "id": "fba1e310-975b-4cfa-8b4c-807232db6c13",
   "metadata": {},
   "outputs": [],
   "source": [
    "def get_matching_listings(query, num=3) :\n",
    "\n",
    "    # find top 3 semantically similar documents to the query\n",
    "    result = vectorStore.similarity_search(query=query, k=num)\n",
    "    return result"
   ]
  },
  {
   "cell_type": "code",
   "execution_count": 64,
   "id": "9b5084d8-15ad-422c-9d6c-c33aeb42e2c9",
   "metadata": {},
   "outputs": [
    {
     "name": "stdout",
     "output_type": "stream",
     "text": [
      "[Document(page_content='Neighborhood: Brookline\\nPrice: $1,775,000\\nBedrooms: 4\\nBathrooms: 3\\nHouse Size: 2,900 sqft\\nDescription: This elegant 4-bedroom, 3-bathroom colonial in Brookline combines historical details with modern luxury. Step through the grand foyer into spacious living and dining rooms, adorned with crown molding and large bay windows. The chef’s kitchen opens up to a sunny breakfast nook and family room. Upstairs, the primary suite features a walk-in closet and spa bath. A fenced-in backyard and two-car garage round out this ideal suburban retreat.\\nNeighborhood Description: Brookline offers a suburban feel with urban conveniences. Known for its excellent schools, leafy streets, and community-focused atmosphere, Brookline has easy access to downtown Boston via the Green Line, making it popular with families and professionals alike.', metadata={'row': 10, 'source': './final_real_estate_listing.csv'}), Document(page_content='Neighborhood: Green Oaks\\nPrice: $800,000\\nBedrooms: 3\\nBathrooms: 2\\nHouse Size: 2,000 sqft\\nDescription: Welcome to this eco-friendly oasis nestled in the heart of Green Oaks. This charming 3-bedroom, 2-bathroom home boasts energy-efficient features such as solar panels and a well-insulated structure. Natural light floods the living spaces, highlighting the beautiful hardwood floors and eco-conscious finishes. The open-concept kitchen and dining area lead to a spacious backyard with a vegetable garden, perfect for the eco-conscious family. Embrace sustainable living without compromising on style in this Green Oaks gem.\\nNeighborhood Description: Green Oaks is a close-knit, environmentally-conscious community with access to organic grocery stores, community gardens, and bike paths. Take a stroll through the nearby Green Oaks Park or grab a cup of coffee at the cozy Green Bean Cafe. With easy access to public transportation and bike lanes, commuting is a breeze.', metadata={'row': 0, 'source': './final_real_estate_listing.csv'}), Document(page_content='Neighborhood: Cambridge\\nPrice: $1,450,000\\nBedrooms: 3\\nBathrooms: 2\\nHouse Size: 2,100 sqft\\nDescription: Located just minutes from Harvard and MIT, this sophisticated 3-bedroom, 2-bathroom townhouse in Cambridge blends classic charm with modern updates. The interior features high ceilings, hardwood floors, and custom cabinetry. A renovated kitchen with granite countertops and stainless steel appliances flows into an open-concept living area, ideal for entertaining. Enjoy your morning coffee on the private patio or take a short walk to nearby bookstores, cafes, and gardens.\\nNeighborhood Description: Cambridge is a culturally rich and intellectual hub, home to world-renowned universities, libraries, and research institutions. The area boasts a vibrant arts scene, diverse restaurants, historic architecture, and an efficient public transportation network.', metadata={'row': 9, 'source': './final_real_estate_listing.csv'})]\n"
     ]
    }
   ],
   "source": [
    "# Test: Do not need to run this cell\n",
    "\n",
    "buyer_query = house_plain_query\n",
    "output = get_matching_listings(buyer_query)\n",
    "print(output)"
   ]
  },
  {
   "cell_type": "markdown",
   "id": "28a1e694-5ee5-44da-9ae7-18cbdf0c1ff9",
   "metadata": {},
   "source": [
    "### Listing Retrieval Logic: Fine-tune the retrieval algorithm to ensure that the most relevant listings are selected based on the semantic closeness to the buyer’s preferences.\n",
    "\n",
    "#### TODO Improvement: Use Pydantic output parser for structured response rather than using example in the prompt"
   ]
  },
  {
   "cell_type": "code",
   "execution_count": 103,
   "id": "a63f04a4-61c6-484f-b44e-a0e5421b1e90",
   "metadata": {},
   "outputs": [
    {
     "name": "stdout",
     "output_type": "stream",
     "text": [
      "\n",
      "Use the conversation below for my preferences for the house I am searching for. \n",
      "\n",
      "Conversation:\n",
      "\n",
      "Question: How big do you want your house to be?\n",
      "Answer: A comfortable three-bedroom house with a spacious kitchen and a cozy living room.\n",
      "Question: What are 3 most important things for you in choosing this property?\n",
      "Answer: A quiet neighborhood, good local schools, and convenient shopping options.\n",
      "Question: Which amenities would you like?\n",
      "Answer: A backyard for gardening, a two-car garage, and a modern, energy-efficient heating system.\n",
      "Question: Which transportation options are important to you?\n",
      "Answer: Easy access to a reliable bus line, proximity to a major highway, and bike-friendly roads.\n",
      "Question: How urban do you want your neighborhood to be?\n",
      "Answer: A balance between suburban tranquility and access to urban amenities like restaurants and theaters.\n",
      "\n",
      "Return details in structured format strictly as per the response example below. \n",
      "Extract bedrooms, bathrooms number and house size. Structure all other information as a summary in a description field. \n",
      "Do not paraphrase the answers from the user and ensure that the summary matches as close to the answers.\n",
      "If some data is not specified for a field, keep it empty.\n",
      "\n",
      "Response example: \n",
      "\n",
      "Bedrooms: 3\n",
      "Bathrooms: 2\n",
      "House Size: 2,000 sqft\n",
      "Description: I am looking for a charming 3-bedroom, 2-bathroom home with energy-efficient features such as solar panels and a well-insulated structure. Natural light should floods the living spaces, highlighting the beautiful hardwood floors and eco-conscious finishes. The open-concept kitchen and dining area with a spacious backyard. I embrace sustainable living without compromising on style.\n",
      "\n",
      "\n",
      "\n"
     ]
    }
   ],
   "source": [
    "\n",
    "qa_query = \"\"\"\n",
    "Use the conversation below for my preferences for the house I am searching for. \n",
    "\n",
    "Conversation:\n",
    "{question_and_answer}\n",
    "\n",
    "Return details in structured format strictly as per the response example below. \n",
    "Extract bedrooms, bathrooms number and house size. Structure all other information as a summary in a description field. \n",
    "Do not paraphrase the answers from the user and ensure that the summary matches as close to the answers.\n",
    "If some data is not specified for a field, keep it empty.\n",
    "\n",
    "Response example: \n",
    "{response_format}\n",
    "\n",
    "\"\"\"\n",
    "\n",
    "prompt = PromptTemplate(\n",
    "    template=qa_query,\n",
    "    input_variables=[\"question_and_answer\", \"response_format\"],\n",
    "    #partial_variables={\"format_instructions\": parser.get_format_instructions},\n",
    ")\n",
    "\n",
    "response_format = \"\"\"\n",
    "Bedrooms: 3\n",
    "Bathrooms: 2\n",
    "House Size: 2,000 sqft\n",
    "Description: I am looking for a charming 3-bedroom, 2-bathroom home with energy-efficient features such as solar panels and a well-insulated structure. Natural light should floods the living spaces, highlighting the beautiful hardwood floors and eco-conscious finishes. The open-concept kitchen and dining area with a spacious backyard. I embrace sustainable living without compromising on style.\n",
    "\"\"\"\n",
    "\n",
    "llm_query = prompt.format(question_and_answer=question_and_answer, response_format=response_format)\n",
    "print(llm_query)"
   ]
  },
  {
   "cell_type": "code",
   "execution_count": 104,
   "id": "7591def5-9979-4ed7-bc20-de7c0d524d23",
   "metadata": {},
   "outputs": [
    {
     "name": "stdout",
     "output_type": "stream",
     "text": [
      "Bedrooms: 3\n",
      "Bathrooms: \n",
      "House Size: \n",
      "Description: I am searching for a comfortable three-bedroom house with a spacious kitchen and a cozy living room. My top priorities are a quiet neighborhood, good local schools, and convenient shopping options. I also desire a backyard for gardening, a two-car garage, and a modern, energy-efficient heating system. In terms of transportation, I am looking for easy access to a reliable bus line, proximity to a major highway, and bike-friendly roads. I prefer a balance between suburban tranquility and access to urban amenities like restaurants and theaters.\n"
     ]
    }
   ],
   "source": [
    "llm_output = llm.invoke(llm_query)\n",
    "print(llm_output)"
   ]
  },
  {
   "cell_type": "code",
   "execution_count": 20,
   "id": "c923c9d7-2a79-40e0-9f0f-2f4fd9406473",
   "metadata": {},
   "outputs": [
    {
     "name": "stdout",
     "output_type": "stream",
     "text": [
      "[Document(metadata={'row': 10, 'source': './Listings.csv'}, page_content='Neighborhood: Brookline\\nPrice: $1,775,000\\nBedrooms: 4\\nBathrooms: 3\\nHouse Size: 2,900 sqft\\nDescription: This elegant 4-bedroom, 3-bathroom colonial in Brookline combines historical details with modern luxury. Step through the grand foyer into spacious living and dining rooms, adorned with crown molding and large bay windows. The chef’s kitchen opens up to a sunny breakfast nook and family room. Upstairs, the primary suite features a walk-in closet and spa bath. A fenced-in backyard and two-car garage round out this ideal suburban retreat.\\nNeighborhood Description: Brookline offers a suburban feel with urban conveniences. Known for its excellent schools, leafy streets, and community-focused atmosphere, Brookline has easy access to downtown Boston via the Green Line, making it popular with families and professionals alike.'), Document(metadata={'row': 9, 'source': './Listings.csv'}, page_content='Neighborhood: Cambridge\\nPrice: $1,450,000\\nBedrooms: 3\\nBathrooms: 2\\nHouse Size: 2,100 sqft\\nDescription: Located just minutes from Harvard and MIT, this sophisticated 3-bedroom, 2-bathroom townhouse in Cambridge blends classic charm with modern updates. The interior features high ceilings, hardwood floors, and custom cabinetry. A renovated kitchen with granite countertops and stainless steel appliances flows into an open-concept living area, ideal for entertaining. Enjoy your morning coffee on the private patio or take a short walk to nearby bookstores, cafes, and gardens.\\nNeighborhood Description: Cambridge is a culturally rich and intellectual hub, home to world-renowned universities, libraries, and research institutions. The area boasts a vibrant arts scene, diverse restaurants, historic architecture, and an efficient public transportation network.'), Document(metadata={'source': './Listings.csv', 'row': 3}, page_content=\"Neighborhood: Cedar Grove\\nPrice: $720,000\\nBedrooms: 3\\nBathrooms: 2\\nHouse Size: 2,100 sqft\\nDescription: This beautifully updated single-story home in Cedar Grove blends modern comfort with natural serenity. Boasting 3 bedrooms and 2 full bathrooms, the home welcomes you with its airy open layout, vaulted ceilings, and large windows that frame picturesque views of the surrounding trees. The kitchen is designed for culinary enthusiasts, featuring quartz countertops, a walk-in pantry, and a large island. The master suite offers private backyard access and an ensuite bathroom with a soaking tub, dual vanities, and a walk-in shower.\\nNeighborhood Description: Cedar Grove is known for its lush greenbelts, quiet walking trails, and friendly community events. It's an ideal location for families and retirees alike, with local parks, dog trails, and charming coffee shops that promote a laid-back lifestyle.\")]\n"
     ]
    }
   ],
   "source": [
    "# Test: Do not need to run this cell\n",
    "\n",
    "buyer_llm_query = llm_output\n",
    "output = get_matching_listings(buyer_llm_query)\n",
    "print(output)"
   ]
  },
  {
   "cell_type": "markdown",
   "id": "47034026-d53c-46c7-b67d-d7a0cb65bffc",
   "metadata": {},
   "source": [
    "# Step 6: Personalizing Listing Descriptions"
   ]
  },
  {
   "cell_type": "markdown",
   "id": "e94c66f1-1c49-4fad-a156-40196d28f019",
   "metadata": {},
   "source": [
    "### LLM Augmentation\n",
    "For each retrieved listing, use the LLM to augment the description, tailoring it to resonate with the buyer’s specific preferences. \n",
    "This involves subtly emphasizing aspects of the property that align with what the buyer is looking for.\n",
    "\n",
    "#### Maintaining Factual Integrity: Ensure that the augmentation process enhances the appeal of the listing without altering factual information."
   ]
  },
  {
   "cell_type": "code",
   "execution_count": 125,
   "id": "af692813-bb46-4dc5-88a2-55c4712de1c7",
   "metadata": {},
   "outputs": [],
   "source": [
    "#Test: Do not need to run this cell\n",
    "\n",
    "#Test preference\n",
    "\n",
    "test_preference = \"\"\"\n",
    "Bedrooms: 3\n",
    "Bathrooms:\n",
    "House Size: \n",
    "Description: I am searching for a comfortable three-bedroom house with a spacious kitchen and a cozy living room. My top priorities are a quiet neighborhood, good local schools, and convenient shopping options. I would also like a backyard for gardening, a two-car garage, and a modern, energy-efficient heating system. In terms of transportation, I am looking for easy access to a reliable bus line, proximity to a major highway, and bike-friendly roads. I prefer a neighborhood that strikes a balance between suburban tranquility and access to urban amenities like restaurants and theaters.\n",
    "\"\"\""
   ]
  },
  {
   "cell_type": "code",
   "execution_count": 139,
   "id": "2b61aa01-abb3-4604-9ec4-e43cd6c5f090",
   "metadata": {},
   "outputs": [],
   "source": [
    "query = \"\"\"\n",
    "You are a real estate agent. \n",
    "Based on the houses listings provided in the context, suggest at least 1-2 houses which closely match the user preference given.\n",
    "If no such listing of house is found, output \"No matching listing found\".\n",
    "\n",
    "If matching listings are found, genereate an appealing summary for each matching listing from the context. Map the user preference with the house description and neighbourhood descriptions.\n",
    "Do not add any new factual information in your summary. \n",
    "\n",
    "\"\"\""
   ]
  },
  {
   "cell_type": "code",
   "execution_count": 113,
   "id": "01c15524-8561-44e3-bd23-33a7b081256f",
   "metadata": {},
   "outputs": [],
   "source": [
    "prompt = PromptTemplate(\n",
    "    template=\"{query}\\nUser Preference: {user_preference}\\nContext: {context}\",\n",
    "    input_variables=[\"query\", \"user_preference\", \"context\"],\n",
    ")\n",
    "\n",
    "chain = load_qa_chain(llm, prompt = prompt, chain_type=\"stuff\")"
   ]
  },
  {
   "cell_type": "code",
   "execution_count": 140,
   "id": "8eefd941-1313-4695-8e52-3718c9b50e3c",
   "metadata": {},
   "outputs": [
    {
     "name": "stdout",
     "output_type": "stream",
     "text": [
      "Bedrooms: 3\n",
      "Bathrooms: \n",
      "House Size: \n",
      "Description: I am searching for a comfortable three-bedroom house with a spacious kitchen and a cozy living room. My top priorities are a quiet neighborhood, good local schools, and convenient shopping options. I also desire a backyard for gardening, a two-car garage, and a modern, energy-efficient heating system. In terms of transportation, I am looking for easy access to a reliable bus line, proximity to a major highway, and bike-friendly roads. I prefer a balance between suburban tranquility and access to urban amenities like restaurants and theaters.\n",
      "\n",
      "\n",
      "Matching Listings:\n",
      "1. Neighborhood: Brookline\n",
      "Price: $1,775,000\n",
      "Bedrooms: 4\n",
      "Bathrooms: 3\n",
      "House Size: 2,900 sqft\n",
      "Description: This elegant 4-bedroom, 3-bathroom colonial in Brookline combines historical details with modern luxury. Step through the grand foyer into spacious living and dining rooms, adorned with crown molding and large bay windows. The chef’s kitchen opens up to a sunny breakfast nook and family room. Upstairs, the primary suite features a walk-in closet and spa bath. A fenced-in backyard and two-car garage round out this ideal suburban retreat.\n",
      "Neighborhood Description: Brookline offers a suburban feel with urban conveniences. Known for its excellent schools, leafy streets, and community-focused atmosphere, Brookline has easy access to downtown Boston via the Green Line, making it popular with families and professionals alike.\n",
      "\n",
      "Summary: This elegant 4-bedroom colonial in Brookline offers a perfect blend of historical charm and modern luxury. The spacious living and dining rooms, adorned with crown molding and large bay windows, provide a grand entrance. The chef's kitchen, sunny breakfast nook, and family room make for a comfortable living space. The primary suite features a walk-in closet and spa bath, while the fenced-in backyard and two-car garage add to the suburban retreat feel. Located in Brookline, a neighborhood known for its excellent schools and community-focused atmosphere, this house offers easy access to downtown Boston via the Green Line.\n",
      "\n",
      "2. Neighborhood: Jamaica Plain\n",
      "Price: $985,000\n",
      "Bedrooms: 3\n",
      "Bathrooms: 2\n",
      "House Size: 1,900 sqft\n",
      "Description: This beautifully maintained 3-bedroom, 2-bathroom Victorian in Jamaica Plain is full of character and warmth. The home features original woodwork, a fireplace, and a wraparound porch. The updated kitchen and baths offer modern comforts, while the landscaped backyard includes a garden and space for outdoor gatherings. A short walk to the Arboretum and Jamaica Pond provides serene escapes in nature right in the city.\n",
      "Neighborhood Description: Jamaica Plain is one of Boston’s most eclectic neighborhoods, known for its diversity, community activism, and abundant green spaces. JP offers a relaxed vibe with coffee shops, local breweries, art studios, and weekend markets, making it a favorite among artists and young families.\n",
      "\n",
      "Summary: This charming 3-bedroom Victorian in Jamaica Plain offers a perfect mix of character and modern comforts. The original woodwork, fireplace, and wraparound porch add to the warmth and charm of the home. The updated kitchen and baths provide modern conveniences, while the landscaped backyard with a garden and outdoor space is perfect for gatherings. Located in Jamaica Plain, a diverse and community-focused neighborhood with abundant green spaces, this house offers a relaxed and laid-back lifestyle. \n"
     ]
    }
   ],
   "source": [
    "preference = llm_output\n",
    "print(preference)\n",
    "\n",
    "similar_listings = get_matching_listings(preference, num=5)\n",
    "#print(similar_listings)\n",
    "\n",
    "final_output = chain.run(input_documents=similar_listings, query=query, user_preference=preference)\n",
    "print(final_output)"
   ]
  },
  {
   "cell_type": "code",
   "execution_count": null,
   "id": "bb54403f-855e-4913-b90b-8acf97e9731c",
   "metadata": {},
   "outputs": [],
   "source": []
  }
 ],
 "metadata": {
  "kernelspec": {
   "display_name": "Python [conda env:genai] *",
   "language": "python",
   "name": "conda-env-genai-py"
  },
  "language_info": {
   "codemirror_mode": {
    "name": "ipython",
    "version": 3
   },
   "file_extension": ".py",
   "mimetype": "text/x-python",
   "name": "python",
   "nbconvert_exporter": "python",
   "pygments_lexer": "ipython3",
   "version": "3.10.16"
  }
 },
 "nbformat": 4,
 "nbformat_minor": 5
}
